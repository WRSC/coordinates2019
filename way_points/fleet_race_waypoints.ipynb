{
 "cells": [
  {
   "cell_type": "code",
   "execution_count": 1,
   "metadata": {},
   "outputs": [],
   "source": [
    "import folium\n",
    "import pandas\n",
    "import yaml"
   ]
  },
  {
   "cell_type": "code",
   "execution_count": 2,
   "metadata": {},
   "outputs": [],
   "source": [
    "from xml.dom.minidom import parseString\n",
    "with open('../WRSC2019_day1.kml', 'rt') as f:\n",
    "    doc=f.read()\n",
    "    p = parseString(doc)"
   ]
  },
  {
   "cell_type": "code",
   "execution_count": 3,
   "metadata": {},
   "outputs": [],
   "source": [
    "nodes = p.getElementsByTagName('Placemark')\n",
    "way_points={}\n",
    "for n in nodes:\n",
    "    raw_coord = n.getElementsByTagName('coordinates')[0].firstChild.nodeValue.split(',')\n",
    "    name = (n.getElementsByTagName('name')[0].firstChild.nodeValue)\n",
    "    way_points[name] = [float(raw_coord[1]), float(raw_coord[0])]"
   ]
  },
  {
   "cell_type": "code",
   "execution_count": 4,
   "metadata": {},
   "outputs": [],
   "source": [
    "map_osm = folium.Map(location=way_points['waypoint3'], zoom_start=17)"
   ]
  },
  {
   "cell_type": "code",
   "execution_count": 5,
   "metadata": {},
   "outputs": [],
   "source": [
    "def add_waypoint(name, latlon):\n",
    "    folium.map.Marker(\n",
    "        latlon,\n",
    "        icon=folium.features.DivIcon(\n",
    "            icon_size=(12,12),\n",
    "            icon_anchor=(0,0),\n",
    "            html='<div style=\"font-size: 12pt\">{}</div>'.format(name),\n",
    "            )\n",
    "        ).add_to(map_osm)\n",
    "    folium.CircleMarker(latlon, radius=5).add_to(map_osm)"
   ]
  },
  {
   "cell_type": "code",
   "execution_count": 6,
   "metadata": {},
   "outputs": [],
   "source": [
    "marker_list = [['A', way_points['waypoint1']],\n",
    " ['B', way_points['waypoint2']],\n",
    " ['C', way_points['waypoint3']],\n",
    " ['D', way_points['waypoint4']]]"
   ]
  },
  {
   "cell_type": "code",
   "execution_count": 7,
   "metadata": {},
   "outputs": [],
   "source": [
    "def calc_offset(wp, anchor):\n",
    "    lat_offset = wp[0] - anchor[0]\n",
    "    lon_offset = wp[1] - anchor[1]\n",
    "    return [lat_offset, lon_offset]"
   ]
  },
  {
   "cell_type": "code",
   "execution_count": 8,
   "metadata": {},
   "outputs": [],
   "source": [
    "OFFSET = calc_offset(way_points['waypoint1'], way_points['anchor1'])"
   ]
  },
  {
   "cell_type": "code",
   "execution_count": 9,
   "metadata": {},
   "outputs": [],
   "source": [
    "def apply_offset(wp, OFFSET=OFFSET):\n",
    "    return [wp[0] - OFFSET[0], wp[1] - OFFSET[1]]"
   ]
  },
  {
   "cell_type": "code",
   "execution_count": 10,
   "metadata": {},
   "outputs": [],
   "source": [
    "def add_waypoint_south(name, latlon):\n",
    "    folium.map.Marker(\n",
    "        apply_offset(latlon),\n",
    "        icon=folium.features.DivIcon(\n",
    "            icon_size=(12,12),\n",
    "            icon_anchor=(0,0),\n",
    "            html='<div style=\"font-size: 12pt\">{}</div>'.format(name),\n",
    "            )\n",
    "        ).add_to(map_osm)\n",
    "    folium.CircleMarker(apply_offset(latlon), radius=5).add_to(map_osm)"
   ]
  },
  {
   "cell_type": "code",
   "execution_count": 11,
   "metadata": {},
   "outputs": [],
   "source": [
    "for marker in marker_list:\n",
    "    add_waypoint(marker[0], marker[1])\n",
    "    add_waypoint_south(marker[0], marker[1]) # South"
   ]
  },
  {
   "cell_type": "code",
   "execution_count": 12,
   "metadata": {},
   "outputs": [
    {
     "data": {
      "text/html": [
       "<div style=\"width:100%;\"><div style=\"position:relative;width:100%;height:0;padding-bottom:60%;\"><iframe src=\"data:text/html;charset=utf-8;base64,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\" style=\"position:absolute;width:100%;height:100%;left:0;top:0;border:none !important;\" allowfullscreen webkitallowfullscreen mozallowfullscreen></iframe></div></div>"
      ],
      "text/plain": [
       "<folium.folium.Map at 0x10838ef28>"
      ]
     },
     "execution_count": 12,
     "metadata": {},
     "output_type": "execute_result"
    }
   ],
   "source": [
    "map_osm"
   ]
  },
  {
   "cell_type": "code",
   "execution_count": 13,
   "metadata": {},
   "outputs": [
    {
     "data": {
      "text/plain": [
       "[['A', [29.86713941703848, 121.5389755240182]],\n",
       " ['B', [29.86705406261338, 121.5385997804418]],\n",
       " ['C', [29.86720864100981, 121.5386780355552]],\n",
       " ['D', [29.86729537733915, 121.5384019484949]]]"
      ]
     },
     "execution_count": 13,
     "metadata": {},
     "output_type": "execute_result"
    }
   ],
   "source": [
    "marker_list # South"
   ]
  },
  {
   "cell_type": "code",
   "execution_count": 14,
   "metadata": {},
   "outputs": [
    {
     "name": "stdout",
     "output_type": "stream",
     "text": [
      "[29.86747564425439, 121.5391664546322]\n",
      "[29.86739028982929, 121.5387907110558]\n",
      "[29.86754486822572, 121.53886896616919]\n",
      "[29.86763160455506, 121.53859287910889]\n"
     ]
    }
   ],
   "source": [
    "for marker in marker_list:\n",
    "    print(apply_offset(marker[1])) # North"
   ]
  }
 ],
 "metadata": {
  "kernelspec": {
   "display_name": "Python 3",
   "language": "python",
   "name": "python3"
  },
  "language_info": {
   "codemirror_mode": {
    "name": "ipython",
    "version": 3
   },
   "file_extension": ".py",
   "mimetype": "text/x-python",
   "name": "python",
   "nbconvert_exporter": "python",
   "pygments_lexer": "ipython3",
   "version": "3.6.3"
  }
 },
 "nbformat": 4,
 "nbformat_minor": 2
}
