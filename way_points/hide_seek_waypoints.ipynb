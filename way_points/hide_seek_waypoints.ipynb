{
 "cells": [
  {
   "cell_type": "code",
   "execution_count": 1,
   "metadata": {},
   "outputs": [],
   "source": [
    "import folium"
   ]
  },
  {
   "cell_type": "code",
   "execution_count": 2,
   "metadata": {},
   "outputs": [],
   "source": [
    "from xml.dom.minidom import parseString\n",
    "with open('WRSC2019_day4.kml', 'rt') as f:\n",
    "    doc=f.read()\n",
    "    p = parseString(doc)"
   ]
  },
  {
   "cell_type": "code",
   "execution_count": 3,
   "metadata": {},
   "outputs": [],
   "source": [
    "nodes = p.getElementsByTagName('Placemark')\n",
    "way_points={}\n",
    "for n in nodes:\n",
    "    raw_coord = n.getElementsByTagName('coordinates')[0].firstChild.nodeValue.split(',')\n",
    "    name = (n.getElementsByTagName('name')[0].firstChild.nodeValue)\n",
    "    way_points[name] = [float(raw_coord[1]), float(raw_coord[0])]"
   ]
  },
  {
   "cell_type": "code",
   "execution_count": 4,
   "metadata": {},
   "outputs": [],
   "source": [
    "map_osm = folium.Map(location=way_points['marker1'], zoom_start=17)"
   ]
  },
  {
   "cell_type": "code",
   "execution_count": 6,
   "metadata": {},
   "outputs": [],
   "source": [
    "marker_list = [['A', way_points['marker1']],\n",
    " ['B', way_points['marker2']]]"
   ]
  },
  {
   "cell_type": "code",
   "execution_count": 7,
   "metadata": {},
   "outputs": [],
   "source": [
    "def add_waypoint(name, latlon):\n",
    "    folium.map.Marker(\n",
    "        latlon,\n",
    "        icon=folium.features.DivIcon(\n",
    "            icon_size=(12,12),\n",
    "            icon_anchor=(0,0),\n",
    "            html='<div style=\"font-size: 12pt\">{}</div>'.format(name),\n",
    "            )\n",
    "        ).add_to(map_osm)\n",
    "    folium.CircleMarker(latlon, radius=5).add_to(map_osm)"
   ]
  },
  {
   "cell_type": "code",
   "execution_count": 9,
   "metadata": {},
   "outputs": [],
   "source": [
    "def calc_offset(wp, anchor):\n",
    "    lat_offset = wp[0] - anchor[0]\n",
    "    lon_offset = wp[1] - anchor[1]\n",
    "    return [lat_offset, lon_offset]"
   ]
  },
  {
   "cell_type": "code",
   "execution_count": 10,
   "metadata": {},
   "outputs": [],
   "source": [
    "OFFSET = calc_offset(way_points['marker1'], way_points['anchor1'])"
   ]
  },
  {
   "cell_type": "code",
   "execution_count": 11,
   "metadata": {},
   "outputs": [],
   "source": [
    "def apply_offset(wp, OFFSET=OFFSET):\n",
    "    return [wp[0] - OFFSET[0], wp[1] - OFFSET[1]]"
   ]
  },
  {
   "cell_type": "code",
   "execution_count": 12,
   "metadata": {},
   "outputs": [],
   "source": [
    "def add_waypoint_south(name, latlon):\n",
    "    folium.map.Marker(\n",
    "        apply_offset(latlon),\n",
    "        icon=folium.features.DivIcon(\n",
    "            icon_size=(12,12),\n",
    "            icon_anchor=(0,0),\n",
    "            html='<div style=\"font-size: 12pt\">{}</div>'.format(name),\n",
    "            )\n",
    "        ).add_to(map_osm)\n",
    "    folium.CircleMarker(apply_offset(latlon), radius=5).add_to(map_osm)"
   ]
  },
  {
   "cell_type": "code",
   "execution_count": 13,
   "metadata": {},
   "outputs": [],
   "source": [
    "for marker in marker_list:\n",
    "    add_waypoint(marker[0], marker[1])\n",
    "    add_waypoint_south(marker[1], marker[1]) # South"
   ]
  },
  {
   "cell_type": "code",
   "execution_count": 15,
   "metadata": {},
   "outputs": [
    {
     "data": {
      "text/html": [
       "<div style=\"width:100%;\"><div style=\"position:relative;width:100%;height:0;padding-bottom:60%;\"><iframe src=\"data:text/html;charset=utf-8;base64,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\" style=\"position:absolute;width:100%;height:100%;left:0;top:0;border:none !important;\" allowfullscreen webkitallowfullscreen mozallowfullscreen></iframe></div></div>"
      ],
      "text/plain": [
       "<folium.folium.Map at 0x10a40f588>"
      ]
     },
     "execution_count": 15,
     "metadata": {},
     "output_type": "execute_result"
    }
   ],
   "source": [
    "map_osm"
   ]
  },
  {
   "cell_type": "code",
   "execution_count": null,
   "metadata": {},
   "outputs": [],
   "source": []
  }
 ],
 "metadata": {
  "kernelspec": {
   "display_name": "Python 3",
   "language": "python",
   "name": "python3"
  },
  "language_info": {
   "codemirror_mode": {
    "name": "ipython",
    "version": 3
   },
   "file_extension": ".py",
   "mimetype": "text/x-python",
   "name": "python",
   "nbconvert_exporter": "python",
   "pygments_lexer": "ipython3",
   "version": "3.6.3"
  }
 },
 "nbformat": 4,
 "nbformat_minor": 2
}
